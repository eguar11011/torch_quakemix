{
 "cells": [
  {
   "cell_type": "markdown",
   "metadata": {},
   "source": [
    "Vamos a desglosar un poco del codigo y vamos a ir pasando lo a pytorch para trabajar mas a detalle:\n",
    "\n",
    "```python\n",
    "qkm_model = QKMClassModel(encoded_size=encoded_size,\n",
    "                            dim_y=dim_y,\n",
    "                            encoder=encoder,\n",
    "                            n_comp=n_comp,\n",
    "                            sigma=0.1)\n",
    "```\n",
    "Función de llamada del QKMclasModel\n",
    "\n",
    "```python\n",
    "    def call(self, input):\n",
    "        encoded = self.encoder(input)\n",
    "        rho_x = pure2dm(encoded)\n",
    "        rho_y =self.qkm(rho_x)\n",
    "        probs = dm2discrete(rho_y)\n",
    "        return probs\n",
    "```"
   ]
  },
  {
   "cell_type": "markdown",
   "metadata": {},
   "source": [
    "### pure2dm"
   ]
  },
  {
   "cell_type": "code",
   "execution_count": 19,
   "metadata": {},
   "outputs": [
    {
     "name": "stdout",
     "output_type": "stream",
     "text": [
      "Estado puro\n",
      "tf.Tensor(\n",
      "[[1.  0.  0. ]\n",
      " [0.  0.5 0.5]], shape=(2, 3), dtype=float32)\n",
      "Columna de unos\n",
      "tf.Tensor(\n",
      "[[1.]\n",
      " [1.]], shape=(2, 1), dtype=float32)\n",
      "Matriz de Densidad:\n",
      "tf.Tensor(\n",
      "[[[1.  1.  0.  0. ]]\n",
      "\n",
      " [[1.  0.  0.5 0.5]]], shape=(2, 1, 4), dtype=float32)\n",
      "Forma de la Matriz de Densidad: (2, 1, 4)\n"
     ]
    }
   ],
   "source": [
    "import tensorflow as tf\n",
    "\n",
    "def pure2dm(psi):\n",
    "    '''\n",
    "    Construct a factorized density matrix to represent a pure state\n",
    "    Arguments:\n",
    "     psi: tensor of shape (bs, d)\n",
    "    Returns:\n",
    "     dm: tensor of shape (bs, 1, d + 1)\n",
    "    '''\n",
    "    ones = tf.ones_like(psi[:, 0:1])\n",
    "    print(\"Columna de unos\")\n",
    "    print(ones)\n",
    "    dm = tf.concat((ones[:, tf.newaxis, :], psi[:, tf.newaxis, :]), axis=2)\n",
    "    return dm\n",
    "\n",
    "# Crear un tensor de ejemplo para representar un estado puro\n",
    "psi = tf.constant([[1.0, 0.0, 0.0], [0.0, 0.5, 0.5]], dtype=tf.float32)\n",
    "print(\"Estado puro\")\n",
    "print(psi)\n",
    "# Llamar a la función pure2dm para obtener la matriz de densidad factorizada\n",
    "dm = pure2dm(psi)\n",
    "\n",
    "# Imprimir la matriz de densidad resultante\n",
    "print(\"Matriz de Densidad:\")\n",
    "print(dm)\n",
    "\n",
    "# Comprobar la forma de la matriz de densidad\n",
    "print(\"Forma de la Matriz de Densidad:\", dm.shape)\n"
   ]
  },
  {
   "cell_type": "code",
   "execution_count": 30,
   "metadata": {},
   "outputs": [
    {
     "name": "stdout",
     "output_type": "stream",
     "text": [
      "Estado Puro:\n",
      "tensor([[1.0000, 0.0000, 0.0000],\n",
      "        [0.0000, 0.5000, 0.5000]])\n",
      "Columna de unos\n",
      "tensor([[1.],\n",
      "        [1.]])\n",
      "Matriz de Densidad:\n",
      "tensor([[[1.0000, 1.0000, 0.0000, 0.0000]],\n",
      "\n",
      "        [[1.0000, 0.0000, 0.5000, 0.5000]]])\n",
      "Forma de la Matriz de Densidad: torch.Size([2, 1, 4])\n"
     ]
    }
   ],
   "source": [
    "import torch\n",
    "from torch import Tensor\n",
    "\n",
    "# Definir una función para convertir un estado puro en una matriz de densidad factorizada\n",
    "def pure2dm(psi: Tensor)->Tensor:\n",
    "    '''\n",
    "    Construct a factorized density matrix to represent a pure state\n",
    "    Arguments:\n",
    "     psi: tensor of shape (bs, d)\n",
    "    Returns:\n",
    "     dm: tensor of shape (bs, 1, d + 1)\n",
    "    '''\n",
    "    # Crear la columna adicional de solo unos, con el tamaño de la matriz original\n",
    "    ones: Tensor = torch.ones_like(psi[:, 0:1])\n",
    "    print(\"Columna de unos\")\n",
    "    print(ones)\n",
    "    # Concatenar la nueva columna con la matriz original\n",
    "    dm: Tensor = torch.cat((ones.unsqueeze(1), psi.unsqueeze(1)), dim=2)\n",
    "    return dm\n",
    "\n",
    "# Crear un tensor de ejemplo para representar un estado puro\n",
    "psi = torch.tensor([[1.0, 0.0, 0.0], [0.0, 0.5, 0.5]], dtype=torch.float32)\n",
    "print(\"Estado Puro:\")\n",
    "print(psi)\n",
    "\n",
    "# Llamar a la función pure2dm para obtener la matriz de densidad factorizada\n",
    "dm = pure2dm(psi)\n",
    "\n",
    "# Imprimir la matriz de densidad resultante\n",
    "print(\"Matriz de Densidad:\")\n",
    "print(dm)\n",
    "\n",
    "# Comprobar la forma de la matriz de densidad\n",
    "print(\"Forma de la Matriz de Densidad:\", dm.shape)\n"
   ]
  },
  {
   "cell_type": "markdown",
   "metadata": {},
   "source": [
    "### dm2discrete"
   ]
  },
  {
   "cell_type": "code",
   "execution_count": 44,
   "metadata": {},
   "outputs": [
    {
     "name": "stdout",
     "output_type": "stream",
     "text": [
      "Matriz de ejemplo\n",
      "tf.Tensor(\n",
      "[[[0.3 8.  0.7]\n",
      "  [0.7 9.  6.2]]], shape=(1, 2, 3), dtype=float32)\n",
      "Pesos\n",
      "tf.Tensor([[0.3 0.7]], shape=(1, 2), dtype=float32)\n",
      "Caracteristicas\n",
      "tf.Tensor(\n",
      "[[[8.  0.7]\n",
      "  [9.  6.2]]], shape=(1, 2, 2), dtype=float32)\n",
      "Normalizacion de los pesos\n",
      "tf.Tensor([[0.3 0.7]], shape=(1, 2), dtype=float32)\n",
      "Normalización\n",
      "tf.Tensor(\n",
      "[[[ 8.030566]\n",
      "  [10.928861]]], shape=(1, 2, 1), dtype=float32)\n",
      "Normalizacion bajo las caracteristicas\n",
      "tf.Tensor(\n",
      "[[[0.99619377 0.08716695]\n",
      "  [0.8235076  0.5673052 ]]], shape=(1, 2, 2), dtype=float32)\n",
      "Vector de Probabilidades:\n",
      "tf.Tensor([[0.77243596 0.22756405]], shape=(1, 2), dtype=float32)\n",
      "Forma del Vector de Probabilidades: (1, 2)\n"
     ]
    }
   ],
   "source": [
    "import tensorflow as tf\n",
    "\n",
    "def dm2comp(dm):\n",
    "    '''\n",
    "    Extract vectors and weights from a factorized density matrix representation\n",
    "    Arguments:\n",
    "     dm: tensor of shape (bs, n, d + 1)\n",
    "    Returns:\n",
    "     w: tensor of shape (bs, n)\n",
    "     v: tensor of shape (bs, n, d)\n",
    "    '''\n",
    "    return dm[:, :, 0], dm[:, :, 1:]\n",
    "    \n",
    "def dm2discrete(dm):\n",
    "    '''\n",
    "    Creates a discrete distribution from the components of a density matrix\n",
    "    Arguments:\n",
    "     dm: tensor of shape (bs, n, d + 1)\n",
    "    Returns:\n",
    "     prob: vector of probabilities (bs, d)\n",
    "    '''\n",
    "    w, v = dm2comp(dm)\n",
    "    print(\"Pesos\"); print(w)\n",
    "    print(\"Caracteristicas\"); print(v)\n",
    "    w = w / tf.reduce_sum(w, axis=-1, keepdims=True)\n",
    "    print(\"Normalizacion de los pesos\"); print(w)\n",
    "    norms_v = tf.expand_dims(tf.linalg.norm(v, axis=-1), axis=-1)\n",
    "    print(\"Normalización\"); print(norms_v)\n",
    "    v = v / norms_v\n",
    "    print(\"Normalizacion bajo las caracteristicas\"); print(v)\n",
    "    probs = tf.einsum('...j,...ji->...i', w, v ** 2, optimize=\"optimal\")\n",
    "    return probs\n",
    "\n",
    "# Crear una matriz de densidad de ejemplo\n",
    "dm = tf.constant([[[0.3, 8.0, 0.7], \n",
    "                    [0.7, 9.0, 6.2]]], dtype=tf.float32)\n",
    "print(\"Matriz de ejemplo\")\n",
    "print(dm)\n",
    "# Llamar a la función dm2discrete para obtener el vector de probabilidades\n",
    "probs = dm2discrete(dm)\n",
    "\n",
    "# Imprimir el vector de probabilidades resultante\n",
    "print(\"Vector de Probabilidades:\")\n",
    "print(probs)\n",
    "\n",
    "# Comprobar la forma del vector de probabilidades\n",
    "print(\"Forma del Vector de Probabilidades:\", probs.shape)\n"
   ]
  },
  {
   "cell_type": "markdown",
   "metadata": {},
   "source": [
    "### RBFKernelLayer"
   ]
  },
  {
   "cell_type": "code",
   "execution_count": null,
   "metadata": {},
   "outputs": [
    {
     "name": "stdout",
     "output_type": "stream",
     "text": [
      "Matriz de Kernel RBF:\n",
      "[[[0.21259221 0.81666887 0.27527922 0.34850094 0.79120505]\n",
      "  [0.05199006 0.41257712 0.4246773  0.12295436 0.3467263 ]\n",
      "  [0.1489237  0.24285115 0.7343257  0.09322954 0.20964548]]\n",
      "\n",
      " [[0.03198252 0.33258015 0.04884354 0.1684303  0.4052699 ]\n",
      "  [0.8193839  0.47304073 0.12634103 0.78048116 0.36857757]\n",
      "  [0.20553519 0.7188861  0.64144784 0.29154104 0.58870536]]]\n"
     ]
    }
   ],
   "source": [
    "import tensorflow as tf\n",
    "import numpy as np\n",
    "\n",
    "# Define una función para calcular la matriz de kernel RBF\n",
    "class RBFKernelLayer(tf.keras.layers.Layer):\n",
    "    def __init__(self, sigma=1.0, min_sigma=1e-6):\n",
    "        super(RBFKernelLayer, self).__init__()\n",
    "        self.sigma = sigma\n",
    "        self.min_sigma = min_sigma\n",
    "\n",
    "    def call(self, A, B):\n",
    "        shape_A = tf.shape(A)\n",
    "        shape_B = tf.shape(B)\n",
    "        A_norm = tf.norm(A, axis=-1)[..., tf.newaxis] ** 2\n",
    "        B_norm = tf.norm(B, axis=-1)[tf.newaxis, tf.newaxis, :] ** 2\n",
    "        A_reshaped = tf.reshape(A, [-1, shape_A[2]])\n",
    "        AB = tf.matmul(A_reshaped, B, transpose_b=True)\n",
    "        AB = tf.reshape(AB, [shape_A[0], shape_A[1], shape_B[0]])\n",
    "        dist2 = A_norm + B_norm - 2. * AB\n",
    "        dist2 = tf.clip_by_value(dist2, 0., np.inf)\n",
    "        sigma = tf.clip_by_value(self.sigma, self.min_sigma, np.inf)\n",
    "        K = tf.exp(-dist2 / (2. * sigma ** 2.))\n",
    "        return K\n",
    "\n",
    "# Ejemplo de datos de entrada A y B\n",
    "A = tf.constant(np.random.rand(2, 3, 4), dtype=tf.float32)  # (bs, n, d)\n",
    "B = tf.constant(np.random.rand(5, 4), dtype=tf.float32)  # (m, d)\n",
    "\n",
    "# Crear una instancia de la capa de kernel RBF\n",
    "rbf_layer = RBFKernelLayer(sigma=0.5, min_sigma=1e-6)\n",
    "\n",
    "# Calcular la matriz de kernel RBF\n",
    "K = rbf_layer(A, B)\n",
    "\n",
    "# Imprimir la matriz de kernel resultante\n",
    "print(\"Matriz de Kernel RBF:\")\n",
    "print(K.numpy())\n",
    " "
   ]
  }
 ],
 "metadata": {
  "kernelspec": {
   "display_name": "base",
   "language": "python",
   "name": "python3"
  },
  "language_info": {
   "codemirror_mode": {
    "name": "ipython",
    "version": 3
   },
   "file_extension": ".py",
   "mimetype": "text/x-python",
   "name": "python",
   "nbconvert_exporter": "python",
   "pygments_lexer": "ipython3",
   "version": "3.11.4"
  },
  "orig_nbformat": 4
 },
 "nbformat": 4,
 "nbformat_minor": 2
}
