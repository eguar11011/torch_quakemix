{
 "cells": [
  {
   "cell_type": "markdown",
   "metadata": {},
   "source": [
    "```python\n",
    "dim_x = 2\n",
    "dim_y = 2\n",
    "sigma = 0.1\n",
    "n_comp = 16 \n",
    "qkm_mle = QKMJointDenEstModel(dim_x=dim_x, dim_y=dim_y, sigma=sigma, n_comp=n_comp)\n",
    "```"
   ]
  },
  {
   "cell_type": "markdown",
   "metadata": {},
   "source": [
    "----------\n",
    "```python\n",
    "self.kernel_x = RBFKernelLayer(sigma, dim=dim_x, \n",
    "                                trainable=trainable_sigma,\n",
    "                                min_sigma=min_sigma)\n",
    "self.kernel_y = CosineKernelLayer()\n",
    "self.kernel = CrossProductKernelLayer(dim1=dim_x, kernel1=self.kernel_x, kernel2=self.kernel_y)\n",
    "self.qkmproj = QKMProjLayer(self.kernel,\n",
    "                        dim_x=dim_x + dim_y,\n",
    "                        n_comp=n_comp)\n",
    "\n",
    "def call(self, inputs):\n",
    "        log_probs = (tf.math.log(self.qkmproj(inputs) + 1e-12)\n",
    "                        + self.kernel.log_weight())\n",
    "        self.add_loss(-tf.reduce_mean(log_probs))\n",
    "        return log_probs\n",
    "```"
   ]
  },
  {
   "cell_type": "markdown",
   "metadata": {},
   "source": [
    "### CrossProductKernelLayer"
   ]
  },
  {
   "cell_type": "markdown",
   "metadata": {},
   "source": [
    "```python \n",
    "def call(self, A, B):\n",
    "    '''\n",
    "    Input:\n",
    "        A: tensor of shape (bs, n, d)\n",
    "        B: tensor of shape (m, d)\n",
    "    Result:\n",
    "        K: tensor of shape (bs, n, m)\n",
    "    '''\n",
    "    A1 = A[:, :, :self.dim1]\n",
    "    A2 = A[:, :, self.dim1:]\n",
    "    B1 = B[:, :self.dim1]\n",
    "    B2 = B[:, self.dim1:]\n",
    "    return self.kernel1(A1, B1) * self.kernel2(A2, B2)\n",
    "```"
   ]
  },
  {
   "cell_type": "markdown",
   "metadata": {},
   "source": [
    "Basicamente la idea es separar la entrada, para luego aplicar los dos kernels definidos, y su resultado multiplicarlo.\n",
    "¿El producto de estos dos kernels por qué esta midiendo una similaridad?"
   ]
  },
  {
   "cell_type": "markdown",
   "metadata": {},
   "source": [
    "### QKMProjLayer"
   ]
  },
  {
   "cell_type": "markdown",
   "metadata": {},
   "source": [
    "```python\n",
    "def call(self, inputs):\n",
    "    comp_w = tf.abs(self.c_w) + 1e-10\n",
    "    # normalize comp_w to sum to 1\n",
    "    comp_w = comp_w / tf.reduce_sum(comp_w)\n",
    "    in_v = inputs[:, tf.newaxis, :]\n",
    "    out_vw = self.kernel(in_v, self.c_x) ** 2 # shape (b, 1, n_comp)\n",
    "    out_w = tf.einsum('...j,...ij->...', comp_w, out_vw, optimize=\"optimal\")\n",
    "    return out_w\n",
    "```"
   ]
  },
  {
   "cell_type": "markdown",
   "metadata": {},
   "source": [
    "- Normalizar\n",
    "- Agregar una dimensión\n",
    "- Calcular un kernel\n",
    "- Realizar producto para cada fila y aplanarlas en una suma"
   ]
  },
  {
   "cell_type": "markdown",
   "metadata": {},
   "source": [
    "### Join_model"
   ]
  },
  {
   "cell_type": "markdown",
   "metadata": {},
   "source": [
    "```python\n",
    "self.kernel_x = RBFKernelLayer(sigma, dim=dim_x, \n",
    "                                trainable=trainable_sigma,\n",
    "                                min_sigma=min_sigma)\n",
    "self.kernel_y = CosineKernelLayer()\n",
    "self.kernel = CrossProductKernelLayer(dim1=dim_x, kernel1=self.kernel_x, kernel2=self.kernel_y)\n",
    "self.qkmproj = QKMProjLayer(self.kernel,\n",
    "                        dim_x=dim_x + dim_y,\n",
    "                        n_comp=n_comp)\n",
    "\n",
    "def call(self, inputs):\n",
    "        log_probs = (tf.math.log(self.qkmproj(inputs) + 1e-12)\n",
    "                        + self.kernel.log_weight())\n",
    "        self.add_loss(-tf.reduce_mean(log_probs))\n",
    "        return log_probs\n",
    "```"
   ]
  },
  {
   "cell_type": "markdown",
   "metadata": {},
   "source": [
    "- Logaritmo al resultado que realizo el qkmP mas unos persos que guardo\n",
    "- Valor negativo de la media y lo guarda"
   ]
  }
 ],
 "metadata": {
  "language_info": {
   "name": "python"
  },
  "orig_nbformat": 4
 },
 "nbformat": 4,
 "nbformat_minor": 2
}
